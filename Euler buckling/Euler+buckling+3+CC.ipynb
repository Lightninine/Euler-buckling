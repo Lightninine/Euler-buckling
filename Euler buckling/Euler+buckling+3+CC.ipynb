{
 "cells": [
  {
   "cell_type": "markdown",
   "metadata": {},
   "source": [
    "# Euler buckling (Clamped-Clamped end conditions)\n",
    "\n",
    "<img src=\"http://www.gunt.de/images/datasheet/1530/WP-121-Demonstration-of-Euler-buckling-gunt-1530-zeichnung.jpg\" width=\"400\" align=\"right\">\n",
    "\n",
    "<p>A vertical beam submitted to a vertical force can exhibit an instability.   \n",
    "The critical load for instability depends on the end conditions of the beam.   \n",
    "The picture displays fours different end conditions.   \n",
    "\n",
    "The Euler buckling problem is formulated as a constrained optimization.   \n",
    "The total energy, potential + deformation, is minimum for stable equilibrium.   \n",
    "The constrains are the end conditions and the geometric equations of the beam.   \n",
    "The   <a href=\"https://www.amazon.com/Optimization-Modeling-Python-Springer-Applications/dp/3319588192/ref=sr_1_1?ie=UTF8&amp;qid=1503778130&amp;sr=8-1&amp;keywords=pyomo\">Pyomo Optimization Modeling in Python</a>   package is used to solve the problem.</p>\n",
    "**Clamped-Clamped** end conditions correspond to the **3th situation** from left in the picture.\n",
    "\n",
    "**Dependencies:**   \n",
    "Pyomo and Ipopt, for optimization, are installed automatically from the notebooks if needed.   \n",
    "Bokeh and Holoviews, for graphics, need to be installed beforehands."
   ]
  },
  {
   "cell_type": "markdown",
   "metadata": {},
   "source": [
    "### install  pyomo,  ipopt  and  glpk"
   ]
  },
  {
   "cell_type": "code",
   "execution_count": null,
   "metadata": {
    "collapsed": true
   },
   "outputs": [],
   "source": [
    "%%time\n",
    "import subprocess\n",
    "try:\n",
    "    import pyomo\n",
    "    print(\"Pyomo already installed\")\n",
    "except ImportError:\n",
    "    print(subprocess.run(\"pip install pyomo\", shell=True))\n",
    "    print(subprocess.run(\"conda install ipopt_bin -c cachemeorg\", shell=True))\n",
    "    print(subprocess.run(\"conda install glpk -c cachemeorg\", shell=True))\n",
    "    \n",
    "try:\n",
    "    import holoviews\n",
    "    print(\"holoviews already installed\")\n",
    "except ImportError:\n",
    "    print(\"Installing holoviews\")\n",
    "    print(subprocess.run(\"conda install -c ioam holoviews bokeh\", shell=True))  "
   ]
  },
  {
   "cell_type": "markdown",
   "metadata": {},
   "source": [
    "### import librairies"
   ]
  },
  {
   "cell_type": "code",
   "execution_count": null,
   "metadata": {},
   "outputs": [],
   "source": [
    "from pyomo.environ import *\n",
    "import holoviews as hv\n",
    "hv.extension('bokeh')"
   ]
  },
  {
   "cell_type": "markdown",
   "metadata": {},
   "source": [
    "### a function that defines and solves the Euler buckling problem\n",
    "    \n",
    "    alpha:       load of the beam, normalized\n",
    "    nSegments:   number of segments used in the model"
   ]
  },
  {
   "cell_type": "code",
   "execution_count": null,
   "metadata": {
    "collapsed": true
   },
   "outputs": [],
   "source": [
    "import ipywidgets as widgets\n",
    "from IPython.core.display import display\n",
    "\n",
    "class myBeam:\n",
    "    def __init__(self, nSegments=400):\n",
    "        m = ConcreteModel() \n",
    "        m.N = nSegments\n",
    "        m.h = 1/nSegments\n",
    "        m.Segments = RangeSet(1, m.N)\n",
    "        m.Nodes    = RangeSet(0, m.N)\n",
    "        \n",
    "        m.alpha = Param(mutable=True)\n",
    "        m.alpha = 0\n",
    "        m.x = Var(m.Nodes, bounds=(-5,5), initialize=0)\n",
    "        m.y = Var(m.Nodes, bounds=(-5,5), initialize=0)\n",
    "        m.t = Var(m.Nodes, bounds=(-5,5), initialize=1)\n",
    "        m.u = Var(m.Nodes,                initialize=0)\n",
    "        m.ED = Var()\n",
    "        m.EP = Var()\n",
    "        m.ET = Var()\n",
    "\n",
    "        m.eqs = ConstraintList()\n",
    "        for i in m.Segments: m.eqs.add( m.x[i] - m.x[i-1] == (sin(m.t[i]) + sin(m.t[i-1])) * m.h/2 )\n",
    "        for i in m.Segments: m.eqs.add( m.y[i] - m.y[i-1] == (cos(m.t[i]) + cos(m.t[i-1])) * m.h/2 )\n",
    "        for i in m.Segments: m.eqs.add( m.t[i] - m.t[i-1] == (m.u[i]      + m.u[i-1])      * m.h/2 )\n",
    "\n",
    "        m.eqs.add( m.ED == sum( 0.5*m.h * (m.u[i]**2 + m.u[i-1]**2)  for i in m.Segments ) )\n",
    "        m.eqs.add( m.EP == m.alpha * m.y[m.N] )\n",
    "        m.eqs.add( m.ET == m.ED + m.EP )\n",
    "\n",
    "        m.eqs.add( m.x[0]     == 0)\n",
    "        m.eqs.add( m.y[0]     == 0)\n",
    "        m.eqs.add( m.t[0]     == 0)\n",
    "        m.eqs.add( m.x[m.N]   == 0.0001)\n",
    "        m.eqs.add( m.t[m.N]   == 0)\n",
    "        \n",
    "        m.obj = Objective(expr=m.ET, sense=minimize)\n",
    "        \n",
    "        self.m = m\n",
    "        \n",
    "    def load(self, alpha):\n",
    "        m = self.m\n",
    "        m.alpha = alpha\n",
    "        results = SolverFactory('ipopt').solve(m)\n",
    "        s = 1\n",
    "        if m.x[1].value < 0: s = -1\n",
    "        xval=[m.x[i].value*s for i in m.Nodes]\n",
    "        yval=[m.y[i].value   for i in m.Nodes]\n",
    "        tval=[m.t[i].value   for i in m.Nodes]\n",
    "        uval=[m.u[i].value   for i in m.Nodes]\n",
    "        dx = max(abs(max(xval)),abs(min(xval)))\n",
    "        dy = yval[m.N]        \n",
    "        return [xval, yval, tval, uval, dx, dy, m.ED.value, m.EP.value, m.ET.value]\n",
    "\n",
    "    def loop(self, alphas):\n",
    "        steps  = range(0,len(alphas))\n",
    "        bar = widgets.IntProgress(value=0, min=0, max=len(alphas), description='Progress:')\n",
    "        display(bar)\n",
    "        a, x, y, t, u, dx, dy, ed, ep, et = [[[] for i in steps] for j in range(0,10)]                      # storage\n",
    "        for i in steps:\n",
    "            x[i], y[i], t[i], u[i], dx[i], dy[i], ed[i], ep[i], et[i] = self.load(alphas[i])\n",
    "            bar.value = i\n",
    "        return {\"load\":alphas,\"x\":x,\"y\":y,\"t\":t,\"u\":u,\"dx\":dx,\"dy\":dy,\"ed\":ed,\"ep\":ep,\"et\":et}       "
   ]
  },
  {
   "cell_type": "markdown",
   "metadata": {},
   "source": [
    "### calculating beam stable deformation for different loads"
   ]
  },
  {
   "cell_type": "code",
   "execution_count": null,
   "metadata": {
    "scrolled": false
   },
   "outputs": [],
   "source": [
    "%%time\n",
    "import numpy as np\n",
    "def frg(x0, x1, dx, ndigits=3): return set(np.arange(x0,x1+dx,dx).round(6).tolist())\n",
    "\n",
    "loads = list( set().union(frg(0,250,5), frg(75,90,1), frg(78,80,0.05), frg(170,175,1)) )\n",
    "loads.sort()\n",
    "test = myBeam().loop(loads)"
   ]
  },
  {
   "cell_type": "markdown",
   "metadata": {},
   "source": [
    "### deformation and energies as functions of load"
   ]
  },
  {
   "cell_type": "code",
   "execution_count": null,
   "metadata": {},
   "outputs": [],
   "source": [
    "optionC  = {'Curve':{'style': {\"line_width\":3, 'line_alpha':1}, 'plot': {'height':400, 'width':400, 'show_grid':True, 'tools':['hover']}}}\n",
    "optionC1 = {'Curve':{'style': {\"line_width\":8, 'line_alpha':0.5}, 'plot': {'height':400, 'width':400, 'show_grid':True, 'tools':['hover']}}}\n",
    "optionO  = {'Overlay':{'style': {}, 'plot': {'legend_position':'bottom_left', 'height':400, 'width':400, 'show_grid':True, 'tools':['hover']}}}\n",
    "\n",
    "p1 = hv.Curve(test, kdims=['load'], vdims=['dx'], label=\"horizontal displacement\")(optionC)\n",
    "p2 = hv.Curve(test, kdims=['load'], vdims=['dy'], label=\"vertical displacement\")(optionC)\n",
    "p3 = hv.Curve(test, kdims=['load'], vdims=['ed'], label=\"deformation energy\")(optionC)\n",
    "p4 = hv.Curve(test, kdims=['load'], vdims=['ep'], label=\"potential energy\")(optionC)\n",
    "p5 = hv.Curve(test, kdims=['load'], vdims=['et'], label=\"total energy\")(optionC1)\n",
    "\n",
    "((p1*p2) + (p5*p4*p3))(optionO)\n",
    "# hv.help(p1)"
   ]
  },
  {
   "cell_type": "markdown",
   "metadata": {},
   "source": [
    "### shape as function of load"
   ]
  },
  {
   "cell_type": "code",
   "execution_count": null,
   "metadata": {},
   "outputs": [],
   "source": [
    "options = {'Points':{\n",
    "                'style': {'size':0.5, 'color':'red'}, \n",
    "                'plot': {'color_index':2, 'height':400, 'width':400, 'show_grid':True, 'tools':['hover']}}}\n",
    "\n",
    "def aplot(a):\n",
    "    i = test[\"load\"].tolist().index(a)\n",
    "    x = test[\"x\"][i]\n",
    "    y = test[\"y\"][i]\n",
    "    u = test[\"u\"][i]\n",
    "    u = np.abs(np.array(u)) / umax\n",
    "    c1 = hv.Points((x,y,u), vdims=['z'])\n",
    "    c2 = hv.Points(([-1,1],[-1,1],[0,1]), vdims=['z'])\n",
    "    c = c1*c2\n",
    "    return c(options)\n",
    "\n",
    "umax = np.abs(np.array(test[\"u\"])).max()\n",
    "\n",
    "dmap = hv.DynamicMap(aplot, kdims=['load'])\n",
    "dmap.redim.values(load=test[\"load\"])"
   ]
  },
  {
   "cell_type": "code",
   "execution_count": null,
   "metadata": {
    "collapsed": true
   },
   "outputs": [],
   "source": []
  }
 ],
 "metadata": {
  "kernelspec": {
   "display_name": "Python 3",
   "language": "python",
   "name": "python3"
  },
  "language_info": {
   "codemirror_mode": {
    "name": "ipython",
    "version": 3
   },
   "file_extension": ".py",
   "mimetype": "text/x-python",
   "name": "python",
   "nbconvert_exporter": "python",
   "pygments_lexer": "ipython3",
   "version": "3.6.1"
  }
 },
 "nbformat": 4,
 "nbformat_minor": 2
}
